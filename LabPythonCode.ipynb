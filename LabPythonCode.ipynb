{
 "cells": [
  {
   "cell_type": "code",
   "execution_count": 4,
   "id": "f903e52b",
   "metadata": {},
   "outputs": [],
   "source": [
    "# Combinations.\n",
    "import itertools as it"
   ]
  },
  {
   "cell_type": "code",
   "execution_count": 5,
   "id": "a0716356",
   "metadata": {},
   "outputs": [
    {
     "data": {
      "text/plain": [
       "[True, False]"
      ]
     },
     "execution_count": 5,
     "metadata": {},
     "output_type": "execute_result"
    }
   ],
   "source": [
    "# List of possible values.\n",
    "vals = [True, False]\n",
    "\n",
    "# Show.\n",
    "vals"
   ]
  },
  {
   "cell_type": "code",
   "execution_count": 6,
   "id": "f3e88998",
   "metadata": {},
   "outputs": [
    {
     "data": {
      "text/plain": [
       "[(True, True, True),\n",
       " (True, True, False),\n",
       " (True, False, True),\n",
       " (True, False, False),\n",
       " (False, True, True),\n",
       " (False, True, False),\n",
       " (False, False, True),\n",
       " (False, False, False)]"
      ]
     },
     "execution_count": 6,
     "metadata": {},
     "output_type": "execute_result"
    }
   ],
   "source": [
    "# Positive Integer.\n",
    "N = 3\n",
    "\n",
    "# Generate all combinations of length N of True, False.\n",
    "list(it.product(vals, repeat=N))"
   ]
  },
  {
   "cell_type": "code",
   "execution_count": 7,
   "id": "d2dafaec",
   "metadata": {},
   "outputs": [
    {
     "name": "stdout",
     "output_type": "stream",
     "text": [
      "p = False, q = False, r = True\n",
      "p = False, q = False, r = False\n"
     ]
    }
   ],
   "source": [
    "for S in list(it.product(vals, repeat=3)):\n",
    "    p, q, r = S\n",
    "    if (p or not q) and (not p or q or r) and not p:\n",
    "        print(f'p = {p}, q = {q}, r = {r}')"
   ]
  },
  {
   "cell_type": "code",
   "execution_count": null,
   "id": "13a6ddc9",
   "metadata": {},
   "outputs": [],
   "source": []
  }
 ],
 "metadata": {
  "kernelspec": {
   "display_name": "Python 3 (ipykernel)",
   "language": "python",
   "name": "python3"
  },
  "language_info": {
   "codemirror_mode": {
    "name": "ipython",
    "version": 3
   },
   "file_extension": ".py",
   "mimetype": "text/x-python",
   "name": "python",
   "nbconvert_exporter": "python",
   "pygments_lexer": "ipython3",
   "version": "3.9.13"
  }
 },
 "nbformat": 4,
 "nbformat_minor": 5
}
