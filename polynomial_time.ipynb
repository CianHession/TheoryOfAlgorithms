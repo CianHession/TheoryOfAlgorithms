{
 "cells": [
  {
   "cell_type": "markdown",
   "metadata": {},
   "source": [
    "#  The Polynomial Time Complexity Class (P)\n",
    "***"
   ]
  },
  {
   "cell_type": "markdown",
   "metadata": {},
   "source": [
    "## What is P?\n",
    "\n",
    "In computational theory, P or PTIME/DTIME is a fundemental complexity class which contains all decision problems that a deterministic Turing machine can solve by using a polynomial amount of computation time or polynomial time. (1)\n",
    "\n",
    "Cobham's thesis holds that P is the class of computational problems that are \"efficiently solvable\" or \"tractable\". This is inexact: in practice, some problems not known to be in P have practical solutions, and some that are in P do not, but this is a useful rule of thumb. (1)"
   ]
  },
  {
   "cell_type": "markdown",
   "metadata": {},
   "source": [
    "## Definition"
   ]
  },
  {
   "cell_type": "markdown",
   "metadata": {},
   "source": [
    "A language L is in P if and only if there exists a deterministic Turing machine $M$, such that\n",
    "\n",
    "$M$ runs for polynomial time on all inputs\n",
    "\n",
    "For all $x$ in $L, M$ outputs 1\n",
    "\n",
    "For all $x$ not in $L, M$ outputs 0 \n",
    "\n",
    "(1)"
   ]
  },
  {
   "cell_type": "markdown",
   "metadata": {},
   "source": [
    "## Problems in P"
   ]
  },
  {
   "cell_type": "markdown",
   "metadata": {},
   "source": [
    "P is known to contain many natural problems, including the decision versions of linear programming, and finding a maximum matching. In 2002, it was shown that the problem of determining if a number is prime is in P. The related class of function problems is FP.\n",
    "\n",
    "Several natural problems are complete for P, including st-connectivity (or reachability) on alternating graphs. The article on P-complete problems lists further relevant problems in P."
   ]
  },
  {
   "cell_type": "markdown",
   "metadata": {},
   "source": [
    "## Polynomial Time Complexity $O(n^c)$\n",
    "\n",
    "https://learn2torials.com/a/polynomial-time-complexity"
   ]
  },
  {
   "cell_type": "markdown",
   "metadata": {},
   "source": [
    "When number of steps required to solve an Algorithm with input size n is $O(n^c)$ than it is said to have Polynomial Time Complexity. In simple terms, Polynomial Time $O(n^c)$ means number of operations are proportional to power k of the size of input."
   ]
  },
  {
   "attachments": {
    "image.png": {
     "image/png": "[encoded data removed]"
    }
   },
   "cell_type": "markdown",
   "metadata": {},
   "source": [
    "![image.png](attachment:image.png)"
   ]
  },
  {
   "cell_type": "markdown",
   "metadata": {},
   "source": [
    "Quadratic time complexity $O(n^2)$ is also a special type of polynomial time complexity where $c=2$. Exponential time complexity $O(2^n)$ is worst then polynomial time complexity.\n",
    "\n",
    "Let's look at how $O(n^2)$ grows compare to $O(2^n)$:"
   ]
  },
  {
   "cell_type": "markdown",
   "metadata": {},
   "source": [
    "<div class=\"alert alert-info\">\n",
    "When n=10,\n",
    "\n",
    "O(n2) = 102 = 100 <br>\n",
    "O(2n) = 210 = 1024\n",
    "</div>\n",
    "\n",
    "    "
   ]
  },
  {
   "cell_type": "markdown",
   "metadata": {},
   "source": [
    "As you can see Exponential time complexity $O(2^n)$ is worst than Quadratic time complexity $O(n^2)$."
   ]
  },
  {
   "cell_type": "markdown",
   "metadata": {},
   "source": [
    "## Sets"
   ]
  },
  {
   "cell_type": "markdown",
   "metadata": {},
   "source": [
    "A set is a collection of objects, usually denoted using curly braces, For example, the set A below contains the three objects 1, 2, and 3.\n",
    "We call these objects elements of the set.\n",
    "\n",
    "$ A = ${$ 1, 2, 3$} "
   ]
  },
  {
   "cell_type": "markdown",
   "metadata": {},
   "source": [
    "## Sets in Python\n",
    "https://realpython.com/python-sets/#defining-a-set"
   ]
  },
  {
   "cell_type": "markdown",
   "metadata": {},
   "source": [
    "Python’s built-in set type has the following characteristics:\n",
    "\n",
    "Sets are unordered.\n",
    "Set elements are unique. Duplicate elements are not allowed.\n",
    "A set itself may be modified, but the elements contained in the set must be of an immutable type.\n",
    "Let’s see what all that means, and how you can work with sets in Python.\n",
    "\n",
    "A set can be created in two ways. First, you can define a set with the built-in set() function:"
   ]
  },
  {
   "cell_type": "code",
   "execution_count": 9,
   "metadata": {},
   "outputs": [
    {
     "data": {
      "text/plain": [
       "{'bar', 'baz', 'foo', 'qux'}"
      ]
     },
     "execution_count": 9,
     "metadata": {},
     "output_type": "execute_result"
    }
   ],
   "source": [
    "x = set(['foo', 'bar', 'baz', 'foo', 'qux'])\n",
    "x"
   ]
  },
  {
   "cell_type": "markdown",
   "metadata": {},
   "source": [
    "Strings are also iterable, so a string can be passed to set() as well. You have already seen that list(s) generates a list of the characters in the string s. Similarly, set(s) generates a set of the characters in s:"
   ]
  },
  {
   "cell_type": "code",
   "execution_count": 8,
   "metadata": {},
   "outputs": [
    {
     "data": {
      "text/plain": [
       "'quux'"
      ]
     },
     "execution_count": 8,
     "metadata": {},
     "output_type": "execute_result"
    }
   ],
   "source": [
    "s = 'quux'\n",
    "s"
   ]
  },
  {
   "cell_type": "code",
   "execution_count": null,
   "metadata": {},
   "outputs": [],
   "source": []
  },
  {
   "cell_type": "code",
   "execution_count": null,
   "metadata": {},
   "outputs": [],
   "source": []
  },
  {
   "cell_type": "markdown",
   "metadata": {},
   "source": [
    "## References\n",
    "1) https://en.wikipedia.org/wiki/P_(complexity)\n",
    "\n",
    "2) https://learn2torials.com/a/polynomial-time-complexity\n",
    "\n",
    "3) https://realpython.com/python-sets/#defining-a-set"
   ]
  },
  {
   "cell_type": "code",
   "execution_count": null,
   "metadata": {},
   "outputs": [],
   "source": []
  }
 ],
 "metadata": {
  "kernelspec": {
   "display_name": "Python 3 (ipykernel)",
   "language": "python",
   "name": "python3"
  },
  "language_info": {
   "codemirror_mode": {
    "name": "ipython",
    "version": 3
   },
   "file_extension": ".py",
   "mimetype": "text/x-python",
   "name": "python",
   "nbconvert_exporter": "python",
   "pygments_lexer": "ipython3",
   "version": "3.9.13"
  }
 },
 "nbformat": 4,
 "nbformat_minor": 2
}
