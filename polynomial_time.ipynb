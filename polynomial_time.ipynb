{
 "cells": [
  {
   "cell_type": "markdown",
   "metadata": {},
   "source": [
    "#  The Polynomial Time Complexity Class (P)\n",
    "***"
   ]
  },
  {
   "cell_type": "markdown",
   "metadata": {},
   "source": [
    "## What is P?\n",
    "\n",
    "In computational theory, P or PTIME/DTIME is a fundemental complexity class which contains all decision problems that a deterministic Turing machine can solve by using a polynomial amount of computation time or polynomial time. (1)\n",
    "\n",
    "Cobham's thesis holds that P is the class of computational problems that are \"efficiently solvable\" or \"tractable\". This is inexact: in practice, some problems not known to be in P have practical solutions, and some that are in P do not, but this is a useful rule of thumb. (1)"
   ]
  },
  {
   "cell_type": "markdown",
   "metadata": {},
   "source": [
    "## Defenition"
   ]
  },
  {
   "cell_type": "markdown",
   "metadata": {},
   "source": [
    "A language L is in P if and only if there exists a deterministic Turing machine $M$, such that\n",
    "\n",
    "$M$ runs for polynomial time on all inputs\n",
    "\n",
    "For all $x$ in $L, M$ outputs 1\n",
    "\n",
    "For all $x$ not in $L, M$ outputs 0 \n",
    "\n",
    "(1)"
   ]
  },
  {
   "cell_type": "markdown",
   "metadata": {},
   "source": [
    "## Problems in P"
   ]
  },
  {
   "cell_type": "markdown",
   "metadata": {},
   "source": [
    "P is known to contain many natural problems, including the decision versions of linear programming, and finding a maximum matching. In 2002, it was shown that the problem of determining if a number is prime is in P. The related class of function problems is FP.\n",
    "\n",
    "Several natural problems are complete for P, including st-connectivity (or reachability) on alternating graphs. The article on P-complete problems lists further relevant problems in P."
   ]
  },
  {
   "cell_type": "markdown",
   "metadata": {},
   "source": [
    "## References\n",
    "1) https://en.wikipedia.org/wiki/P_(complexity)"
   ]
  }
 ],
 "metadata": {
  "kernelspec": {
   "display_name": "Python 3 (ipykernel)",
   "language": "python",
   "name": "python3"
  },
  "language_info": {
   "codemirror_mode": {
    "name": "ipython",
    "version": 3
   },
   "file_extension": ".py",
   "mimetype": "text/x-python",
   "name": "python",
   "nbconvert_exporter": "python",
   "pygments_lexer": "ipython3",
   "version": "3.9.13"
  }
 },
 "nbformat": 4,
 "nbformat_minor": 2
}
