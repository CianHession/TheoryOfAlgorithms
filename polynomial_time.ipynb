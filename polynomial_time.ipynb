{
 "cells": [
  {
   "cell_type": "markdown",
   "metadata": {},
   "source": [
    "#  The Polynomial Time Complexity Class (P)\n",
    "***"
   ]
  },
  {
   "cell_type": "markdown",
   "metadata": {},
   "source": [
    "## What is P?\n",
    "\n",
    "In computational complexity theory, P (Polynomial Time) is a complexity class that represents the set of decision problems that can be solved by a deterministic Turing machine in polynomial time, or by an equivalent computation model such as the RAM machine.\n",
    "\n",
    "Formally, a decision problem belongs to P if there exists an algorithm that solves it in O(n^k) time, where n is the size of the input and k is a constant. In other words, if the time required to solve the problem grows no faster than a polynomial function of the input size, the problem is said to be in P.\n",
    "\n",
    "Problems in P are considered to be efficiently solvable, in the sense that their solutions can be computed in a reasonable amount of time on a classical computer. Examples of problems in P include sorting a list of numbers, computing the shortest path between two nodes in a graph, and verifying the correctness of a mathematical proof.\n",
    "\n",
    "P is a very important complexity class in theoretical computer science, as it captures many practical problems that can be solved efficiently, and provides a baseline for comparing the computational complexity of other problems.\n",
    "\n",
    "Cobham's thesis holds that P is the class of computational problems that are \"efficiently solvable\" or \"tractable\". This is inexact: in practice, some problems not known to be in P have practical solutions, and some that are in P do not, but this is a useful rule of thumb. (1)"
   ]
  },
  {
   "cell_type": "markdown",
   "metadata": {},
   "source": [
    "## Definition"
   ]
  },
  {
   "cell_type": "markdown",
   "metadata": {},
   "source": [
    "A language L is in P if and only if there exists a deterministic Turing machine $M$, such that\n",
    "\n",
    "$M$ runs for polynomial time on all inputs\n",
    "\n",
    "For all $x$ in $L, M$ outputs 1\n",
    "\n",
    "For all $x$ not in $L, M$ outputs 0 \n",
    "\n",
    "(1)"
   ]
  },
  {
   "cell_type": "markdown",
   "metadata": {},
   "source": [
    "## Problems in P"
   ]
  },
  {
   "cell_type": "markdown",
   "metadata": {},
   "source": [
    "P is known to contain many natural problems, including the decision versions of linear programming, and finding a maximum matching. In 2002, it was shown that the problem of determining if a number is prime is in P. The related class of function problems is FP.\n",
    "\n",
    "Several natural problems are complete for P, including st-connectivity (or reachability) on alternating graphs. The article on P-complete problems lists further relevant problems in P."
   ]
  },
  {
   "cell_type": "markdown",
   "metadata": {},
   "source": [
    "## Polynomial Time Complexity $O(n^c)$\n",
    "\n",
    "https://learn2torials.com/a/polynomial-time-complexity"
   ]
  },
  {
   "cell_type": "markdown",
   "metadata": {},
   "source": [
    "When number of steps required to solve an Algorithm with input size n is $O(n^c)$ than it is said to have Polynomial Time Complexity. In simple terms, Polynomial Time $O(n^c)$ means number of operations are proportional to power k of the size of input."
   ]
  },
  {
   "attachments": {
    "image.png": {
     "image/png": "[encoded data removed]"
    }
   },
   "cell_type": "markdown",
   "metadata": {},
   "source": [
    "![image.png](attachment:image.png)"
   ]
  },
  {
   "cell_type": "markdown",
   "metadata": {},
   "source": [
    "Quadratic time complexity $O(n^2)$ is also a special type of polynomial time complexity where $c=2$. Exponential time complexity $O(2^n)$ is worst then polynomial time complexity.\n",
    "\n",
    "Let's look at how $O(n^2)$ grows compare to $O(2^n)$:"
   ]
  },
  {
   "cell_type": "markdown",
   "metadata": {},
   "source": [
    "<div class=\"alert alert-info\">\n",
    "When n=10,\n",
    "\n",
    "O(n2) = 102 = 100 <br>\n",
    "O(2n) = 210 = 1024\n",
    "</div>\n",
    "\n",
    "    "
   ]
  },
  {
   "cell_type": "markdown",
   "metadata": {},
   "source": [
    "As you can see Exponential time complexity $O(2^n)$ is worst than Quadratic time complexity $O(n^2)$."
   ]
  },
  {
   "cell_type": "markdown",
   "metadata": {},
   "source": [
    "## Sets"
   ]
  },
  {
   "cell_type": "markdown",
   "metadata": {},
   "source": [
    "A set is a collection of objects, usually denoted using curly braces, For example, the set A below contains the three objects 1, 2, and 3.\n",
    "We call these objects elements of the set.\n",
    "\n",
    "$ A = ${$ 1, 2, 3$} "
   ]
  },
  {
   "cell_type": "markdown",
   "metadata": {},
   "source": [
    "## Sets in Python\n",
    "https://realpython.com/python-sets/#defining-a-set"
   ]
  },
  {
   "cell_type": "markdown",
   "metadata": {},
   "source": [
    "Python’s built-in set type has the following characteristics:\n",
    "\n",
    "Sets are unordered.\n",
    "Set elements are unique. Duplicate elements are not allowed.\n",
    "A set itself may be modified, but the elements contained in the set must be of an immutable type.\n",
    "Let’s see what all that means, and how you can work with sets in Python.\n",
    "\n",
    "A set can be created in two ways. First, you can define a set with the built-in set() function:"
   ]
  },
  {
   "cell_type": "code",
   "execution_count": 1,
   "metadata": {},
   "outputs": [
    {
     "data": {
      "text/plain": [
       "{'bar', 'baz', 'foo', 'qux'}"
      ]
     },
     "execution_count": 1,
     "metadata": {},
     "output_type": "execute_result"
    }
   ],
   "source": [
    "x = set(['foo', 'bar', 'baz', 'foo', 'qux'])\n",
    "x"
   ]
  },
  {
   "cell_type": "markdown",
   "metadata": {},
   "source": [
    "Strings are also iterable, so a string can be passed to set() as well. You have already seen that list(s) generates a list of the characters in the string s. Similarly, set(s) generates a set of the characters in s:"
   ]
  },
  {
   "cell_type": "code",
   "execution_count": 2,
   "metadata": {},
   "outputs": [
    {
     "data": {
      "text/plain": [
       "'quux'"
      ]
     },
     "execution_count": 2,
     "metadata": {},
     "output_type": "execute_result"
    }
   ],
   "source": [
    "s = 'quux'\n",
    "s"
   ]
  },
  {
   "cell_type": "markdown",
   "metadata": {},
   "source": [
    "A set is a collection of objects, usually denoted using curly braces. For example, the set A below contains the three objects 1, 2, and 3. We call these objects elements of the set."
   ]
  },
  {
   "cell_type": "code",
   "execution_count": 3,
   "metadata": {},
   "outputs": [],
   "source": [
    "A = {1, 2, 3}"
   ]
  },
  {
   "cell_type": "markdown",
   "metadata": {},
   "source": [
    "Sets can be infinite, in which case the elements can be identified by an algorithm or property. In this case, we usually assume the infinite set of counting numbers N0 = {0, 1, 2, 3, ...} is a given."
   ]
  },
  {
   "cell_type": "code",
   "execution_count": 4,
   "metadata": {},
   "outputs": [],
   "source": [
    "N = {0, 1, 2, 3, 4, 5}\n",
    "\n",
    "N = {n for n in range(0, 5)} # This generates the set {0, 1, 2, 3, 4, 5}\n",
    "\n",
    "# Generating the set T of even positive natural numbers with an algorithm\n",
    "T = {2*n for n in N}\n",
    "\n",
    "# Defining the set P as the set of all prime numbers\n",
    "P = {p for p in N if all(p % d != 0 for d in range(2, int(p**0.5) + 1))}"
   ]
  },
  {
   "cell_type": "markdown",
   "metadata": {},
   "source": [
    "Two important properties of sets are that they are unordered and that each element is distinct. Note there is no mention of order in the definition of a collection of objects. Likewise, the idea of an object is that it is unique -- we did not say an instance of an object or anything like that.\n",
    "\n",
    "We say B is a subset of A if all the elements in B are also in A. When B has k elements, we sometimes say B is a k-subset of A. Under this definition, the empty set and A itself are always subsets of a set A.\n",
    "\n",
    "Note that a set B is an object itself, and so might be an element of a set A. In this case, we are not saying that the elements of B are individually in A, although that could also be the case. The distinction is important.\n",
    "\n",
    "In Python, set is a built-in type. We can create a new set S with three elements as follows:"
   ]
  },
  {
   "cell_type": "code",
   "execution_count": 5,
   "metadata": {},
   "outputs": [],
   "source": [
    "S = {1, 2, 3}"
   ]
  },
  {
   "cell_type": "markdown",
   "metadata": {},
   "source": [
    "Be careful with the empty set in Python. The statement {} creates an empty dictionary, not an empty set. You have to use set() instead. You can test membership using the in operator.\n",
    "\n",
    "We define the union of sets S and T, denoted S ∪ T, as the set of all the elements in S or T. Likewise, the intersection S ∩ T means the set of all the elements in both S and T. Finally, the difference S \\ T means the set of all the elements in S but not in T.\n",
    "\n",
    "In Python, we use different symbols for these operators."
   ]
  },
  {
   "cell_type": "code",
   "execution_count": 6,
   "metadata": {},
   "outputs": [
    {
     "data": {
      "text/plain": [
       "{4, 5}"
      ]
     },
     "execution_count": 6,
     "metadata": {},
     "output_type": "execute_result"
    }
   ],
   "source": [
    "S = {1, 2, 3}\n",
    "T = {3, 4, 5}\n",
    "\n",
    "S | T  # Union: {1, 2, 3, 4, 5}\n",
    "S & T  # Intersection: {3}\n",
    "S - T  # Difference: {1, 2}\n",
    "T - S  # Different difference: {4, 5}"
   ]
  },
  {
   "cell_type": "markdown",
   "metadata": {},
   "source": [
    "## Sets in Python and Time Complexity\n",
    "https://www.ics.uci.edu/~pattis/ICS-33/lectures/complexitypython.txt"
   ]
  },
  {
   "attachments": {
    "image.png": {
     "image/png": "[encoded data removed]"
    }
   },
   "cell_type": "markdown",
   "metadata": {},
   "source": [
    "Sets in Python are a built-in data structure that can be used to store an unordered collection of unique elements. Sets have a special property called \"hashability,\" which means that the set can be hashed and the lookup time for an element in the set is O(1), on average.\n",
    "\n",
    "The P complexity class refers to the set of decision problems that can be solved in polynomial time by a deterministic Turing machine. The time complexity of a problem is related to the number of operations required to solve the problem for a given input size.\n",
    "\n",
    "The hash table data structure, which is used to implement Python sets, has a lookup time of O(1) on average. This means that the time required to find an element in a set does not depend on the size of the set. Since sets are implemented using hash tables, they can be used to solve certain decision problems in the P complexity class.\n",
    "\n",
    "For example, the problem of finding duplicate elements in a list can be solved using sets in O(n) time, where n is the size of the list. This is because inserting an element into a set and checking if an element is already in a set can be done in constant time, on average.\n",
    "\n",
    "In summary, sets in Python are closely related to the time complexity class P because they are implemented using hash tables, which have a lookup time of O(1) on average. This means that sets can be used to solve certain decision problems in polynomial time, which is a characteristic of the P complexity class.\n",
    "\n",
    "![image.png](attachment:image.png)"
   ]
  },
  {
   "cell_type": "markdown",
   "metadata": {},
   "source": [
    "## Tuples"
   ]
  },
  {
   "cell_type": "markdown",
   "metadata": {},
   "source": [
    "Tuples are a type of ordered sequence that are used when order matters. A tuple is a finite sequence, which is essentially a list of objects that typically come from a set or sets. A tuple of length k is sometimes referred to as a k-tuple, but a 2-tuple is usually just called a pair.\n",
    "\n",
    "For example, the tuple t = (1, 4, 9, 16) is a 4-tuple, with the first element being 1 and the last element being 16. Tuples are similar to lists or arrays in programming languages, but the key difference is that tuples are immutable while lists are mutable. This means that once a tuple is created, its contents cannot be changed, while a list can be modified.\n",
    "\n",
    "In Python, tuples and lists are different types, with tuples using parentheses () and lists using brackets []. Tuples are often used when we need to store data that should not be changed, while lists are more flexible and can be used to store data that can be modified. Tuples are also hashable, which makes them useful in certain contexts.\n",
    "\n",
    "For example, we can access elements of a list or tuple using their index. l[0] and t[0] both refer to the first element of their respective sequence. We can also modify elements of a list using their index, but we cannot do so for a tuple since they are immutable.\n",
    "\n",
    "In summary, tuples are a type of ordered sequence that are used when order matters and the contents should not be modified. While they are similar to lists or arrays, the key difference is that tuples are immutable while lists are mutable. They are useful in certain contexts, such as when we need a hashable data type."
   ]
  },
  {
   "cell_type": "code",
   "execution_count": 7,
   "metadata": {},
   "outputs": [],
   "source": [
    "#Creating a tuple\n",
    "t = (1, 2, 3)"
   ]
  },
  {
   "cell_type": "code",
   "execution_count": 8,
   "metadata": {},
   "outputs": [
    {
     "name": "stdout",
     "output_type": "stream",
     "text": [
      "1\n",
      "2\n",
      "3\n"
     ]
    }
   ],
   "source": [
    "#Access elements of the tuple\n",
    "print(t[0]) # Output: 1\n",
    "print(t[1]) # Output: 2\n",
    "print(t[2]) # Output: 3"
   ]
  },
  {
   "cell_type": "code",
   "execution_count": 9,
   "metadata": {},
   "outputs": [
    {
     "name": "stdout",
     "output_type": "stream",
     "text": [
      "1\n",
      "2\n",
      "3\n"
     ]
    }
   ],
   "source": [
    "# You can even assign tupletes to variables\n",
    "a, b, c = t\n",
    "print(a) # Output: 1\n",
    "print(b) # Output: 2\n",
    "print(c) # Output: 3"
   ]
  },
  {
   "cell_type": "code",
   "execution_count": 10,
   "metadata": {},
   "outputs": [
    {
     "name": "stdout",
     "output_type": "stream",
     "text": [
      "(1, 2, 3, 4, 5, 6)\n"
     ]
    }
   ],
   "source": [
    "# You can concat two tuples together!\n",
    "t1 = (1, 2, 3)\n",
    "t2 = (4, 5, 6)\n",
    "t3 = t1 + t2\n",
    "print(t3) # Output: (1, 2, 3, 4, 5, 6)\n"
   ]
  },
  {
   "cell_type": "code",
   "execution_count": 11,
   "metadata": {},
   "outputs": [
    {
     "name": "stdout",
     "output_type": "stream",
     "text": [
      "True\n",
      "True\n"
     ]
    }
   ],
   "source": [
    "# Tuple comparing\n",
    "t1 = (1, 2, 3)\n",
    "t2 = (4, 5, 6)\n",
    "t3 = (1, 2, 3)\n",
    "print(t1 < t2) # Output: True\n",
    "print(t1 == t3) # Output: True"
   ]
  },
  {
   "cell_type": "markdown",
   "metadata": {},
   "source": [
    "Tuples can be used as keys in dictionaries because they are hashable."
   ]
  },
  {
   "cell_type": "code",
   "execution_count": 12,
   "metadata": {},
   "outputs": [
    {
     "name": "stdout",
     "output_type": "stream",
     "text": [
      "Male\n"
     ]
    }
   ],
   "source": [
    "# Create a dictionary where each key is a tuple representing a person's name and age\n",
    "person_info = {('John', 25): 'Male', ('Emily', 30): 'Female', ('Tom', 22): 'Male'}\n",
    "\n",
    "# Access the value associated with a particular key tuple\n",
    "print(person_info[('John', 25)])  # Output: 'Male'\n"
   ]
  },
  {
   "cell_type": "markdown",
   "metadata": {},
   "source": [
    "Tuples can be used as return values from functions to return multiple values at once."
   ]
  },
  {
   "cell_type": "code",
   "execution_count": 13,
   "metadata": {},
   "outputs": [
    {
     "name": "stdout",
     "output_type": "stream",
     "text": [
      "8\n",
      "2\n"
     ]
    }
   ],
   "source": [
    "# A function that returns the sum and difference of two numbers as a tuple\n",
    "def add_subtract(a, b):\n",
    "    return a+b, a-b\n",
    "\n",
    "# Call the function and unpack the returned tuple into two variables\n",
    "sum_, diff = add_subtract(5, 3)\n",
    "print(sum_)   # Output: 8\n",
    "print(diff)   # Output: 2\n"
   ]
  },
  {
   "cell_type": "markdown",
   "metadata": {},
   "source": [
    "Tuples can be used to swap the values of two variables in a single line of code, as follows: a, b = b, a:"
   ]
  },
  {
   "cell_type": "code",
   "execution_count": 14,
   "metadata": {},
   "outputs": [
    {
     "name": "stdout",
     "output_type": "stream",
     "text": [
      "10\n",
      "5\n"
     ]
    }
   ],
   "source": [
    "a = 5\n",
    "b = 10\n",
    "\n",
    "# Swap the values of a and b using a tuple\n",
    "a, b = b, a\n",
    "print(a)   # Output: 10\n",
    "print(b)   # Output: 5"
   ]
  },
  {
   "cell_type": "markdown",
   "metadata": {},
   "source": [
    "The tuple() function can be used to convert other iterable objects, such as lists or strings, to tuples:"
   ]
  },
  {
   "cell_type": "code",
   "execution_count": 15,
   "metadata": {},
   "outputs": [
    {
     "name": "stdout",
     "output_type": "stream",
     "text": [
      "(1, 2, 3, 4, 5)\n",
      "('H', 'e', 'l', 'l', 'o', ',', ' ', 'W', 'o', 'r', 'l', 'd', '!')\n"
     ]
    }
   ],
   "source": [
    "# Convert a list to a tuple\n",
    "my_list = [1, 2, 3, 4, 5]\n",
    "my_tuple = tuple(my_list)\n",
    "print(my_tuple)   # Output: (1, 2, 3, 4, 5)\n",
    "\n",
    "# Convert a string to a tuple\n",
    "my_string = \"Hello, World!\"\n",
    "my_tuple = tuple(my_string)\n",
    "print(my_tuple)   # Output: ('H', 'e', 'l', 'l', 'o', ',', ' ', 'W', 'o', 'r', 'l', 'd', '!')"
   ]
  },
  {
   "cell_type": "markdown",
   "metadata": {},
   "source": [
    "Tuples can contain any type of object, including other tuples, lists, or even functions:"
   ]
  },
  {
   "cell_type": "code",
   "execution_count": 16,
   "metadata": {},
   "outputs": [
    {
     "name": "stdout",
     "output_type": "stream",
     "text": [
      "1\n",
      "Hello\n",
      "[4, 5, 6]\n",
      "9\n"
     ]
    }
   ],
   "source": [
    "# Create a tuple containing various types of objects\n",
    "my_tuple = (1, 2.5, 'Hello', [4, 5, 6], (7, 8, 9), lambda x: x**2)\n",
    "\n",
    "# Access the elements of the tuple\n",
    "print(my_tuple[0])   # Output: 1\n",
    "print(my_tuple[2])   # Output: 'Hello'\n",
    "print(my_tuple[3])   # Output: [4, 5, 6]\n",
    "\n",
    "# Call the function stored in the tuple\n",
    "print(my_tuple[5](3))   # Output: 9\n"
   ]
  },
  {
   "cell_type": "markdown",
   "metadata": {},
   "source": [
    "## Tuples and Time Complexity\n",
    "https://www.geeksforgeeks.org/time-complexity-python-operations/"
   ]
  },
  {
   "cell_type": "markdown",
   "metadata": {},
   "source": [
    "Tuples in Python have a constant time complexity for many operations, including accessing elements by index, concatenation, and comparison. This means that the time it takes to perform these operations does not depend on the size of the tuple.\n",
    "\n",
    "For example, accessing an element of a tuple by index takes O(1) time, since Python uses a constant-time hash function to map the index to the memory address of the element. Similarly, concatenating two tuples takes O(1) time, since Python simply creates a new tuple object with references to the elements of the original tuples.\n",
    "\n",
    "In general, tuples are considered to have a constant time complexity for most operations, and are therefore considered to be part of the time complexity class P, which includes all problems that can be solved in polynomial time. This is because the time it takes to perform operations on a tuple does not increase with the size of the tuple, and can be considered to be a constant factor.\n",
    "\n",
    "However, it is important to note that certain operations on tuples may have a higher time complexity in certain cases. For example, searching for an element in a tuple requires iterating over all of the elements, which takes O(n) time, where n is the size of the tuple. Similarly, sorting a tuple takes O(n log n) time using the built-in sorted() function in Python."
   ]
  },
  {
   "cell_type": "markdown",
   "metadata": {},
   "source": [
    "## Strings"
   ]
  },
  {
   "cell_type": "markdown",
   "metadata": {},
   "source": [
    "Strings are sequences of characters, such as \"hello world\" or \"12345\". Strings are used to represent text, numbers, and other data types in many programming languages and applications."
   ]
  },
  {
   "cell_type": "markdown",
   "metadata": {},
   "source": [
    "in realtion to Strings and the Polynomial Time Complexity Class, they share many problems involving strings that can be solved using algorithms that run in polynomial time. For example, one common problem involving strings is the pattern matching problem, which asks whether a given pattern appears in a given string. This problem can be solved using the Knuth-Morris-Pratt algorithm, which runs in O(n) time, which n is the length of the string.\n",
    "\n",
    "Another example problem of computing is finding the edit distance between two strings, required to transform one string into another. This problem can be solved using the dynamic programming algorithm of Wagner and Fischer, which runs at O(n^2) time.\n",
    "\n",
    "In general, many problems involving strings can be solved using algorithms that run in polynomial time. This makes them tractable and efficient for large input sizes. However, there are also many problems involving strings that are known to be NP-complete, which means that they are unlikely to have polynomial-time algorithms. Examples of such problems include the shortest common supersequence problem and the longest common subsequence problem."
   ]
  },
  {
   "cell_type": "markdown",
   "metadata": {},
   "source": [
    "### Knuth-Morris-Pratt Algorithm Python Example\n",
    "from: https://www.geeksforgeeks.org/python-program-for-kmp-algorithm-for-pattern-searching-2/"
   ]
  },
  {
   "cell_type": "code",
   "execution_count": 17,
   "metadata": {},
   "outputs": [
    {
     "name": "stdout",
     "output_type": "stream",
     "text": [
      "Found pattern at index 10\n"
     ]
    }
   ],
   "source": [
    "# Python program for KMP Algorithm\n",
    "def KMPSearch(pat, txt):\n",
    "    M = len(pat)\n",
    "    N = len(txt)\n",
    " \n",
    "    # create lps[] that will hold the longest prefix suffix\n",
    "    # values for pattern\n",
    "    lps = [0]*M\n",
    "    j = 0 # index for pat[]\n",
    " \n",
    "    # Preprocess the pattern (calculate lps[] array)\n",
    "    computeLPSArray(pat, M, lps)\n",
    " \n",
    "    i = 0 # index for txt[]\n",
    "    while i < N:\n",
    "        if pat[j] == txt[i]:\n",
    "            i += 1\n",
    "            j += 1\n",
    " \n",
    "        if j == M:\n",
    "            print (\"Found pattern at index\", str(i-j))\n",
    "            j = lps[j-1]\n",
    " \n",
    "        # mismatch after j matches\n",
    "        elif i < N and pat[j] != txt[i]:\n",
    "            # Do not match lps[0..lps[j-1]] characters,\n",
    "            # they will match anyway\n",
    "            if j != 0:\n",
    "                j = lps[j-1]\n",
    "            else:\n",
    "                i += 1\n",
    " \n",
    "def computeLPSArray(pat, M, lps):\n",
    "    len = 0 # length of the previous longest prefix suffix\n",
    " \n",
    "    lps[0] # lps[0] is always 0\n",
    "    i = 1\n",
    " \n",
    "    # the loop calculates lps[i] for i = 1 to M-1\n",
    "    while i < M:\n",
    "        if pat[i]== pat[len]:\n",
    "            len += 1\n",
    "            lps[i] = len\n",
    "            i += 1\n",
    "        else:\n",
    "            # This is tricky. Consider the example.\n",
    "            # AAACAAAA and i = 7. The idea is similar\n",
    "            # to search step.\n",
    "            if len != 0:\n",
    "                len = lps[len-1]\n",
    " \n",
    "                # Also, note that we do not increment i here\n",
    "            else:\n",
    "                lps[i] = 0\n",
    "                i += 1\n",
    " \n",
    "txt = \"ABABDABACDABABCABAB\"\n",
    "pat = \"ABABCABAB\"\n",
    "KMPSearch(pat, txt)"
   ]
  },
  {
   "cell_type": "markdown",
   "metadata": {},
   "source": [
    "## Languages "
   ]
  },
  {
   "cell_type": "markdown",
   "metadata": {},
   "source": [
    "A language is a collection of strings made up of an alphabet. The alphabet is a set of symbols. The set of all possible strings that can be made from the alphabet is called the Kleene star. A language is any subset of the Kleene star. We can also define a set of strings of a fixed length over an alphabet. We call this A^k.\n",
    "\n",
    "A class is a set of languages, a language is a set of strings, and a string is a tuple over an alphabet, which is a set.\n",
    "\n",
    "Languages are purely syntactical, meaning they are concerned with the arrangement of symbols and not their meaning. For example, prime numbers can be considered as strings written over an alphabet. We can write the prime numbers in decimal or binary notation.\n",
    "\n",
    "There is no correct way to write the number thirteen, but the distinction between syntax and semantics is important. Syntax refers to the arrangement of symbols, while semantics refers to their meaning.\n",
    "\n",
    "We can use syntax alone to solve certain problems, but semantics is needed to understand the meaning of symbols in the real world."
   ]
  },
  {
   "cell_type": "markdown",
   "metadata": {},
   "source": [
    "## Maps"
   ]
  },
  {
   "cell_type": "markdown",
   "metadata": {},
   "source": [
    "In computer science, the term \"function\" is often used interchangeably with \"algorithm.\" However, we can also think of a function as a way to link inputs to outputs without worrying about how to get there. In this case, we will use the term \"map.\""
   ]
  },
  {
   "cell_type": "markdown",
   "metadata": {},
   "source": [
    "## Defining Maps"
   ]
  },
  {
   "cell_type": "markdown",
   "metadata": {},
   "source": [
    "Informally, a map from a set X to a set Y is an assignment of the elements of X to elements in Y. A more precise definition involves the Cartesian product.\n",
    "\n",
    "The Cartesian product, X × Y, of two sets X and Y is the set of all possible 2-tuples (or pairs) where the first element comes from X and the second from Y. For example, if both X and Y are the set of real numbers R, we get the Cartesian plane.\n",
    "\n",
    "A simpler example is as follows. Let S be the set {1, 2, 3} and T be the set {a, b}. Then:"
   ]
  },
  {
   "cell_type": "code",
   "execution_count": 18,
   "metadata": {},
   "outputs": [],
   "source": [
    "# Define sets S and T\n",
    "S = {1, 2, 3}\n",
    "T = {'a', 'b'}\n",
    "\n",
    "# Compute the Cartesian product S x T\n",
    "SXT = {(1, 'a'), (1, 'b'), (2, 'a'), (2, 'b'), (3, 'a'), (3, 'b')}"
   ]
  },
  {
   "cell_type": "markdown",
   "metadata": {},
   "source": [
    "Now, a map f from X to Y is a subset of S × T such that every element of X is the first element of exactly one element in f. For example, in the following, f1 and f2 are maps from S to T where S and T are as above."
   ]
  },
  {
   "cell_type": "code",
   "execution_count": 19,
   "metadata": {},
   "outputs": [],
   "source": [
    "f1 = {(1, 'a'), (2, 'a'), (3, 'b')}\n",
    "f2 = {(1, 'a'), (2, 'a'), (3, 'a')}"
   ]
  },
  {
   "cell_type": "markdown",
   "metadata": {},
   "source": [
    "However, the following are not maps from S to T. In the first one, the element 2 is not mapped to anything. In the second, 1 is mapped to two things in T."
   ]
  },
  {
   "cell_type": "code",
   "execution_count": 20,
   "metadata": {},
   "outputs": [
    {
     "data": {
      "text/plain": [
       "{(1, 'a'), (1, 'b'), (2, 'a'), (3, 'a')}"
      ]
     },
     "execution_count": 20,
     "metadata": {},
     "output_type": "execute_result"
    }
   ],
   "source": [
    "{(2, 'a'), (3, 'a')}\n",
    "{(1, 'a'), (1, 'b'), (2, 'a'), (3, 'a')}"
   ]
  },
  {
   "cell_type": "markdown",
   "metadata": {},
   "source": [
    "Note that all of X must be used, but not all of Y. Where all of Y is used, we say the map is onto Y or surjective, and call it a surjection. Where each element of X is mapped to a different element of Y, we say the map is one-to-one or injective. In the examples above, f1 is surjective and f2 is not. Neither is injective.\n",
    "\n",
    "The following map from X = {1, 2, 3} to Y = {1, 4, 9} is both injective and surjective. We say such maps are bijective and call them bijections."
   ]
  },
  {
   "cell_type": "code",
   "execution_count": 21,
   "metadata": {},
   "outputs": [],
   "source": [
    "f = {(1, 1), (2, 4), (3, 9)}"
   ]
  },
  {
   "cell_type": "markdown",
   "metadata": {},
   "source": [
    "## Maps and Polynomial Time Complexity"
   ]
  },
  {
   "cell_type": "markdown",
   "metadata": {},
   "source": [
    "The concept of maps or functions is closely related to the concept of polynomial time complexity class P in computer science.\n",
    "\n",
    "In computational complexity theory, P is the set of decision problems that can be solved by a deterministic Turing machine in polynomial time. A decision problem is a problem that requires a yes/no answer, and a deterministic Turing machine is a theoretical model of a computer that can perform computations according to a set of rules.\n",
    "\n",
    "One way to think about P is that it represents the set of problems that can be solved efficiently using an algorithm. An algorithm is a step-by-step procedure for solving a problem, and a key part of an algorithm is its ability to map inputs to outputs.\n",
    "\n",
    "For example, consider the problem of sorting a list of numbers in ascending order. An algorithm that solves this problem takes a list of numbers as input and outputs a sorted list. We can think of this algorithm as a map from the set of all possible lists of numbers to the set of all possible sorted lists of numbers.\n",
    "\n",
    "Similarly, the problem of finding the shortest path between two points in a graph can also be thought of as a map. An algorithm that solves this problem takes a graph and two points as input and outputs the shortest path between those points. We can think of this algorithm as a map from the set of all possible graphs and pairs of points to the set of all possible shortest paths.\n",
    "\n",
    "In both of these examples, the maps represent algorithms that can solve the problems efficiently. That is, they can solve the problems in polynomial time, which means that the running time of the algorithm is bounded by a polynomial function of the input size.\n",
    "\n",
    "Therefore, we can say that the concept of maps or functions is closely related to the concept of polynomial time complexity class P, as they both involve the ability to efficiently map inputs to outputs using an algorithm."
   ]
  },
  {
   "cell_type": "markdown",
   "metadata": {},
   "source": [
    "## Decision Problems\n",
    "https://towardsdatascience.com/almost-everything-you-need-to-know-about-decision-trees-with-code-dc026172a284"
   ]
  },
  {
   "cell_type": "markdown",
   "metadata": {},
   "source": [
    "Decision problems are a fundamental concept in computer science and computational complexity theory. They are problems where the answer is either \"yes\" or \"no.\" The input to a decision problem is a set of values, and the output is a boolean value indicating whether the input satisfies some property or not.\n",
    "\n",
    "In Python, decision problems can be implemented as functions that take an input and return a boolean value. For example, consider the following decision problem:\n",
    "\n",
    "Given a list of integers, is there a pair of integers in the list that sum to a given value k?\n",
    "\n",
    "We can implement this decision problem as a function in Python as follows:"
   ]
  },
  {
   "cell_type": "code",
   "execution_count": 22,
   "metadata": {},
   "outputs": [],
   "source": [
    "def sum_pair_exists(lst, k):\n",
    "    # Create a set to store the complements of each integer\n",
    "    complements = set()\n",
    "    \n",
    "    # Iterate over the list\n",
    "    for x in lst:\n",
    "        # Check if the complement of x is in the set\n",
    "        if k - x in complements:\n",
    "            return True\n",
    "        # Add the complement of x to the set\n",
    "        complements.add(x)\n",
    "    \n",
    "    # No sum pair was found\n",
    "    return False"
   ]
  },
  {
   "cell_type": "markdown",
   "metadata": {},
   "source": [
    "This function works by iterating over the input list lst, and for each integer x, checking whether the complement k - x is already in the set of complements seen so far. If it is, then there exists a pair of integers in the list that sum to k. Otherwise, the complement of x is added to the set, and the iteration continues. If no sum pair is found, the function returns False.\n",
    "\n",
    "In terms of polynomial time complexity, decision problems are said to be in the complexity class P if there exists a polynomial-time algorithm that can solve the problem. A polynomial-time algorithm is one that can solve the problem in a number of steps that is bounded by a polynomial function of the size of the input.\n",
    "\n",
    "For example, the sum_pair_exists function above can be shown to be in P. The algorithm has a worst-case time complexity of O(n), where n is the size of the input list. This is because the function iterates over the list once, and each iteration takes constant time on average. Therefore, the sum_pair_exists function is in the complexity class P."
   ]
  },
  {
   "cell_type": "markdown",
   "metadata": {},
   "source": [
    "## Turing Machines"
   ]
  },
  {
   "cell_type": "markdown",
   "metadata": {},
   "source": [
    "A Turing machine is a mathematical model of a hypothetical computing machine that can read and write symbols on a tape, move the tape left or right, and change its internal state based on the symbol it reads. The Turing machine is one of the most fundamental models of computation and is used to study the limits of what can and cannot be computed.\n",
    "\n",
    "In terms of polynomial time complexity class P, a decision problem is said to be in P if it can be solved by a deterministic Turing machine in polynomial time. Polynomial time means that the running time of the algorithm is bounded by a polynomial function of the input size. Decision problems in P are considered to be efficiently solvable, meaning that the solution can be found in a reasonable amount of time for large input sizes."
   ]
  },
  {
   "cell_type": "markdown",
   "metadata": {},
   "source": [
    "Turing machines are a fundamental concept in the study of computation. They are designed to be as simple as possible, consisting of a single read/write head, an infinite tape of cells, and a table of instructions. At any point in time, the head is over a single cell of the tape and is in one of a finite number of states. The cell contains a symbol from an alphabet, with a special symbol denoting an empty cell.\n",
    "\n",
    "Turing machines perform one step at a time, which involves reading the symbol in the current cell, overwriting it with another symbol (which can be the same), moving to the cell to the left or right, and changing state (which can also be the same). Each Turing machine is defined by a set of rules given in a table called a state table, which tells the machine what to do for the given state and symbol.\n",
    "\n",
    "A (deterministic) Turing machine is defined by a 7-tuple M: M = (Q, Σ, Γ, δ, q0, qa, qf), where Q is a finite set of states, Σ is the input alphabet (not containing the blank symbol), Γ is the tape alphabet (a superset of Σ containing the blank symbol), δ is a map that specifies the transition function for the machine, q0 is the initial state, qa is the accept state, and qf is the reject state.\n",
    "\n",
    "When the Turing machine operates on an input, there are three possibilities: it can accept the input by ending in the accept state, it can reject the input by ending in the reject state, or it can never stop operating. The subset of Σ∗ containing all elements that are accepted by the Turing machine is called its language.\n",
    "\n",
    "To better understand Turing machines, let's consider a simple Python example. Suppose we want to create a Turing machine that recognizes the language {0^n 1^n | n ≥ 1}, where n is a non-negative integer. We can define the machine's state table as follows:"
   ]
  },
  {
   "attachments": {
    "image.png": {
     "image/png": "[encoded data removed]"
    }
   },
   "cell_type": "markdown",
   "metadata": {},
   "source": [
    "![image.png](attachment:image.png)"
   ]
  },
  {
   "cell_type": "markdown",
   "metadata": {},
   "source": [
    "Here, B denotes the blank symbol, R denotes a right move, and L denotes a left move. The machine starts in state q0 with the head over the first symbol of the input. If the symbol is 0, it overwrites it with x and moves to the right (state q1). It then continues moving right until it encounters a 1, overwriting it with x and moving to the left (state q2). It then continues moving left until it encounters a 0, overwriting it with x and moving to the right (state q3). It then continues moving right until it encounters a B, at which point it moves one more step right and enters the accept state qa (state q6). If it encounters a 1 before reaching the end of the input, it enters the reject state qf (state q7). If it encounters a B before reaching a 1, it enters an infinite loop and never stops.\n",
    "\n",
    "This example demonstrates how a Turing machine can recognize a simple language by following a set of rules. Turing machines are a powerful theoretical concept that can be used to study the limits of computation and to develop algorithms for solving complex problems."
   ]
  },
  {
   "cell_type": "markdown",
   "metadata": {},
   "source": [
    "## Python Example of a TM \n",
    "from: https://notebook.community/dimazest/turing_machine/Turing%20machine\n",
    "\n",
    "This implementation shows how the Turing machine can solve certain decision problems by halting on an accepting state or looping forever on a rejecting state."
   ]
  },
  {
   "cell_type": "code",
   "execution_count": 23,
   "metadata": {},
   "outputs": [],
   "source": [
    "import logging\n",
    "\n",
    "from itertools import islice"
   ]
  },
  {
   "cell_type": "code",
   "execution_count": 24,
   "metadata": {},
   "outputs": [],
   "source": [
    "class TuringMachine:\n",
    "    \"\"\"Turing machine with a singly-infinite tape.\n",
    "\n",
    "    A machine is instantiated with transitions, start, accept and reject states\n",
    "    and a blank symbol. We assume that the input and the tape alphabet can be\n",
    "    deducted from the transitions.\n",
    "\n",
    "    :param dict transitions: a mapping from (state, symbol) tuples to (state,\n",
    "    symbol, direction) tuple. Note that in theory δ is a transition *function*\n",
    "    (in the sense of mathematical functions), but we expect a mapping, not a\n",
    "    callable. Directions are either 'L' (for left) or 'R' (for right).\n",
    "\n",
    "    :param start_state: the initial state of the machine.\n",
    "\n",
    "    :param accpet_state: the accept state.\n",
    "\n",
    "    :param reject_state: the reject state.\n",
    "\n",
    "    :blank_symbol: the special symbold that marks the tape cell to be empty.\n",
    "\n",
    "    We don't really care what the input alphabet Σ and the tape alphabet Γ are\n",
    "    for the purpose of this implementation. For a particular run of the machine,\n",
    "    the tape alphabet is the union of the input, symbols used in transitions and\n",
    "    the blank symbol.\n",
    "\n",
    "    The input on the tape is not part of a Turing machine, so it's not required\n",
    "    on a Turing  machine instantiation. To execute a particular machine use the\n",
    "    .run() instance method.\n",
    "\n",
    "    \"\"\"\n",
    "\n",
    "    def __init__(self, transitions, start_state='q0', accept_state='qa', reject_state='qr', blank_symbol=''):\n",
    "        self.blank_symbol = blank_symbol\n",
    "        self.transitions = transitions\n",
    "        self.start_state = start_state\n",
    "        self.reject_state = reject_state\n",
    "\n",
    "        self.states_to_actions = {\n",
    "            accept_state: 'Accept',\n",
    "            reject_state: 'Reject',\n",
    "        }\n",
    "\n",
    "    def run(self, input_):\n",
    "        \"\"\"Exectute the Turing machine for a particular input.\n",
    "\n",
    "        :param input_: the input that is written on the tape. It's can be a list\n",
    "        of strings. Or just a string, in which case each letter is treated as a\n",
    "        symbol.\n",
    "\n",
    "        Given an input a machine can run forever or stop after a number of\n",
    "        steps. So it would be great if we could write a function that\n",
    "        potentially runs forever and it's up the the caller to decide how many\n",
    "        steps are executed. Actually, we should not even bother with this. On\n",
    "        the other side, ^C is not the best way for a user to tell us to stop.\n",
    "        Instead we give the user control to execute us one step at a time. This\n",
    "        is what Python generators are (partially) for. The yield expression\n",
    "        suspends us and gives controll to the caller until he or she decides to\n",
    "        resume our execution. Have a look to [1] to get familliar with the yield\n",
    "        keyord and generators, and hopefully never, ever write something like::\n",
    "\n",
    "            result = []\n",
    "            for i in range(len(other_items)):\n",
    "                item = other_items[i]\n",
    "\n",
    "                result.append(item * 3)\n",
    "\n",
    "        At each step the generator yields a (action, configuration) tuple.\n",
    "\n",
    "        The action is either 'Accept', 'Reject' or None. 'Accept' and `Reject`\n",
    "        are self explanatory and signal that the input is either accepted or\n",
    "        rejected the machine stops in these states. None is returned in case the\n",
    "        machine needs to continue running.\n",
    "\n",
    "        Configuration is a dictionary with the following keys:\n",
    "        - 'state' the current state,\n",
    "        - 'left_hand_side': the symbols on the left hand side of the\n",
    "          current position.\n",
    "        - 'symbol': the current symbol,\n",
    "        - 'right_hand_side': the symbols on the right hand side of the\n",
    "          current position.\n",
    "\n",
    "        [1] http://www.jeffknupp.com/blog/2013/04/07/improve-your-python-yield-and-generators-explained/\n",
    "\n",
    "        \"\"\"\n",
    "        state = self.start_state\n",
    "\n",
    "        # Theory doesn't say how to implement the tape, so we store the symbols\n",
    "        # on the tape the way that is most suitable for us. We get two lists to\n",
    "        # store the symbols from left and right hand sides of the current\n",
    "        # symbol.\n",
    "        #\n",
    "        # Initially, there is the blank symbol on the left. Note, that the\n",
    "        # element at 0 position is the *closest* to the head.\n",
    "        left_hand_side = [self.blank_symbol]\n",
    "        if not input_:\n",
    "            # In case input is empty, pretend that it consists of a blank.\n",
    "            input_ = [self.blank_symbol]\n",
    "        # Consume the right most symbol of the input and make it the current\n",
    "        # symbol, everything else is stored in a list for the right side\n",
    "        # symbols.\n",
    "        symbol = input_[0]\n",
    "        right_hand_side = list(input_[1:])\n",
    "\n",
    "        while True:\n",
    "            # Share our state with the caller.\n",
    "            # Also give them a chance to control our execution.\n",
    "            action = self.states_to_actions.get(state)\n",
    "            yield (\n",
    "                action,\n",
    "                {\n",
    "                    'state': state,\n",
    "                    'left_hand_side': left_hand_side,\n",
    "                    'symbol': symbol,\n",
    "                    'right_hand_side': right_hand_side,\n",
    "                }\n",
    "            )\n",
    "\n",
    "            # Check whether we need to stop the execution.\n",
    "            if action is not None:\n",
    "                break\n",
    "\n",
    "            # Do the transition.\n",
    "            state, symbol, direction = self.transitions.get(\n",
    "                (state, symbol),\n",
    "                (self.reject_state, symbol, 'R'),  # All other transitions are to the reject state.\n",
    "            )\n",
    "\n",
    "            if direction == 'R':\n",
    "                left_hand_side.insert(0, symbol)\n",
    "\n",
    "                try:\n",
    "                    symbol = right_hand_side.pop(0)\n",
    "                except IndexError:\n",
    "                    # Pretend that we always have a blank symbol on the right.\n",
    "                    symbol = self.blank_symbol\n",
    "\n",
    "            elif left_hand_side:\n",
    "                # Move to the left only if there is a symbold to move.\n",
    "                right_hand_side.insert(0, symbol)\n",
    "                symbol = left_hand_side.pop(0)\n",
    "\n",
    "            else:\n",
    "                assert direction in 'LR', 'L (left) and R (right) are the only correct directions to move.'\n",
    "                logging.warning('An attempt to move left from the leftmost cell! The machine stays put.')\n",
    "\n",
    "    def accepts(self, input_, step_limit=100):\n",
    "        action = list(islice(self.run(input_), step_limit))[-1][0]\n",
    "\n",
    "        if action is not None:\n",
    "            return action == 'Accept'\n",
    "        else:\n",
    "            logging.warn(\n",
    "                'The step limit of %s steps  is reached!',\n",
    "                step_limit,\n",
    "            )\n",
    "\n",
    "    def rejects(self, input_, **kwargs):\n",
    "        accepts = self.accepts(input_, **kwargs)\n",
    "\n",
    "        if accepts is not None:\n",
    "            return not accepts\n",
    "\n",
    "    def debug(self, input_, step_limit=100, colored=False):\n",
    "        for action, configuration in islice(self.run(input_), step_limit):\n",
    "            print(\n",
    "                '{state:<30} {left}{b}{symbol}{f}{right}'.format(\n",
    "                    left=''.join(reversed(configuration['left_hand_side'])),\n",
    "                    right=''.join(configuration['right_hand_side']),\n",
    "                    b='\\x1b[47;1m' if colored else '[',\n",
    "                    f='\\x1b[0m' if colored else ']',\n",
    "                    **configuration\n",
    "                )\n",
    "            )"
   ]
  },
  {
   "cell_type": "markdown",
   "metadata": {},
   "source": [
    "## One Hash"
   ]
  },
  {
   "cell_type": "code",
   "execution_count": 25,
   "metadata": {},
   "outputs": [],
   "source": [
    "one_hash = TuringMachine(\n",
    "    {\n",
    "        ('q0', '#'): ('saw_#', '#', 'R'),\n",
    "        ('saw_#', ''): ('qa', '', 'R'),\n",
    "    }\n",
    ")"
   ]
  },
  {
   "cell_type": "code",
   "execution_count": 26,
   "metadata": {},
   "outputs": [],
   "source": [
    "execution = one_hash.run('#')"
   ]
  },
  {
   "cell_type": "code",
   "execution_count": 27,
   "metadata": {},
   "outputs": [
    {
     "data": {
      "text/plain": [
       "(None,\n",
       " {'state': 'q0', 'left_hand_side': [''], 'symbol': '#', 'right_hand_side': []})"
      ]
     },
     "execution_count": 27,
     "metadata": {},
     "output_type": "execute_result"
    }
   ],
   "source": [
    "next(execution)"
   ]
  },
  {
   "cell_type": "code",
   "execution_count": 28,
   "metadata": {},
   "outputs": [
    {
     "data": {
      "text/plain": [
       "(None,\n",
       " {'state': 'saw_#',\n",
       "  'left_hand_side': ['#', ''],\n",
       "  'symbol': '',\n",
       "  'right_hand_side': []})"
      ]
     },
     "execution_count": 28,
     "metadata": {},
     "output_type": "execute_result"
    }
   ],
   "source": [
    "next(execution)"
   ]
  },
  {
   "cell_type": "code",
   "execution_count": 29,
   "metadata": {},
   "outputs": [
    {
     "data": {
      "text/plain": [
       "('Accept',\n",
       " {'state': 'qa',\n",
       "  'left_hand_side': ['', '#', ''],\n",
       "  'symbol': '',\n",
       "  'right_hand_side': []})"
      ]
     },
     "execution_count": 29,
     "metadata": {},
     "output_type": "execute_result"
    }
   ],
   "source": [
    "next(execution)"
   ]
  },
  {
   "cell_type": "code",
   "execution_count": 30,
   "metadata": {},
   "outputs": [
    {
     "data": {
      "text/plain": [
       "True"
      ]
     },
     "execution_count": 30,
     "metadata": {},
     "output_type": "execute_result"
    }
   ],
   "source": [
    "one_hash.accepts('#')"
   ]
  },
  {
   "cell_type": "code",
   "execution_count": 31,
   "metadata": {},
   "outputs": [],
   "source": [
    "assert one_hash.accepts('#')"
   ]
  },
  {
   "cell_type": "code",
   "execution_count": 32,
   "metadata": {},
   "outputs": [],
   "source": [
    "assert one_hash.rejects('##')"
   ]
  },
  {
   "cell_type": "code",
   "execution_count": 33,
   "metadata": {},
   "outputs": [],
   "source": [
    "assert one_hash.rejects('')"
   ]
  },
  {
   "cell_type": "code",
   "execution_count": 34,
   "metadata": {},
   "outputs": [
    {
     "name": "stderr",
     "output_type": "stream",
     "text": [
      "C:\\Users\\cianh\\AppData\\Local\\Temp\\ipykernel_30576\\2077685253.py:152: DeprecationWarning: The 'warn' function is deprecated, use 'warning' instead\n",
      "  logging.warn(\n",
      "WARNING:root:The step limit of 1 steps  is reached!\n"
     ]
    }
   ],
   "source": [
    "assert one_hash.accepts('#', step_limit=1) is None"
   ]
  },
  {
   "cell_type": "markdown",
   "metadata": {},
   "source": [
    "## Two Hashes"
   ]
  },
  {
   "cell_type": "code",
   "execution_count": 35,
   "metadata": {},
   "outputs": [],
   "source": [
    "two_hashes = TuringMachine(\n",
    "    {\n",
    "        ('q0', '#'): ('saw_#', '#', 'R'),\n",
    "        ('saw_#', '#'): ('saw_##', '#', 'R'),\n",
    "        ('saw_##', ''): ('qa', '', 'R'),\n",
    "    }\n",
    ")"
   ]
  },
  {
   "cell_type": "code",
   "execution_count": 36,
   "metadata": {},
   "outputs": [],
   "source": [
    "assert two_hashes.accepts('##')"
   ]
  },
  {
   "cell_type": "code",
   "execution_count": 37,
   "metadata": {},
   "outputs": [],
   "source": [
    "assert two_hashes.rejects('#')"
   ]
  },
  {
   "cell_type": "code",
   "execution_count": 38,
   "metadata": {},
   "outputs": [],
   "source": [
    "assert two_hashes.rejects('###')"
   ]
  },
  {
   "cell_type": "markdown",
   "metadata": {},
   "source": [
    "## Two same words separated by # (w#w)"
   ]
  },
  {
   "cell_type": "code",
   "execution_count": 39,
   "metadata": {},
   "outputs": [],
   "source": [
    "w_hash_w = TuringMachine(\n",
    "    {\n",
    "        ('q0', '#'): ('End', '#', 'R'),\n",
    "        ('End', ''): ('qa', '', 'R'),\n",
    "\n",
    "        ('q0', '0'): ('FindDelimiter0', 'X', 'R'),\n",
    "        ('FindDelimiter0', '#'): ('Check0', '#', 'R'),\n",
    "        ('Check0', '0'): ('FindLeftmost', 'X', 'L'),\n",
    "\n",
    "        ('q0', '1'): ('FindDelimiter1', 'X', 'R'),\n",
    "        ('FindDelimiter1', '#'): ('Check1', '#', 'R'),\n",
    "        ('Check1', '1'): ('FindLeftmost', 'X', 'L'),\n",
    "\n",
    "        ('FindLeftmost', '0'): ('FindLeftmost', '0', 'L'),\n",
    "        ('FindLeftmost', '1'): ('FindLeftmost', '1', 'L'),\n",
    "        ('FindLeftmost', 'X'): ('FindLeftmost', 'X', 'L'),\n",
    "        ('FindLeftmost', '#'): ('FindLeftmost', '#', 'L'),\n",
    "        ('FindLeftmost', ''): ('FindNext', '', 'R'),\n",
    "        \n",
    "        ('FindNext', 'X'): ('FindNext', 'X', 'R'),\n",
    "        ('FindNext', '0'): ('FindDelimiter0', 'X', 'R'),\n",
    "        ('FindNext', '1'): ('FindDelimiter1', 'X', 'R'),\n",
    "        ('FindNext', '#'): ('End', '#', 'R'),\n",
    "        \n",
    "        ('FindDelimiter0', '0'): ('FindDelimiter0', '0', 'R'),\n",
    "        ('FindDelimiter0', '1'): ('FindDelimiter0', '1', 'R'),\n",
    "        ('FindDelimiter1', '0'): ('FindDelimiter1', '0', 'R'),\n",
    "        ('FindDelimiter1', '1'): ('FindDelimiter1', '1', 'R'),\n",
    "        \n",
    "        ('Check0', 'X'): ('Check0', 'X', 'R'),\n",
    "        ('Check1', 'X'): ('Check1', 'X', 'R'),\n",
    "        \n",
    "        ('End', 'X'): ('End', 'X', 'R')\n",
    "    }\n",
    ")\n"
   ]
  },
  {
   "cell_type": "code",
   "execution_count": 40,
   "metadata": {},
   "outputs": [],
   "source": [
    "assert w_hash_w.accepts('#')"
   ]
  },
  {
   "cell_type": "code",
   "execution_count": 41,
   "metadata": {},
   "outputs": [],
   "source": [
    "assert w_hash_w.accepts('0#0')"
   ]
  },
  {
   "cell_type": "code",
   "execution_count": 42,
   "metadata": {},
   "outputs": [],
   "source": [
    "assert w_hash_w.accepts('1#1')"
   ]
  },
  {
   "cell_type": "code",
   "execution_count": 43,
   "metadata": {},
   "outputs": [],
   "source": [
    "assert w_hash_w.accepts('0000000000000#0000000000000', step_limit=10000)"
   ]
  },
  {
   "cell_type": "code",
   "execution_count": 44,
   "metadata": {},
   "outputs": [],
   "source": [
    "assert w_hash_w.accepts('1001#1001')"
   ]
  },
  {
   "cell_type": "code",
   "execution_count": 45,
   "metadata": {},
   "outputs": [],
   "source": [
    "assert w_hash_w.rejects('10#1')"
   ]
  },
  {
   "cell_type": "code",
   "execution_count": 46,
   "metadata": {},
   "outputs": [],
   "source": [
    "assert w_hash_w.rejects('1#01')"
   ]
  },
  {
   "cell_type": "code",
   "execution_count": 47,
   "metadata": {},
   "outputs": [],
   "source": [
    "assert w_hash_w.rejects('1#1#')"
   ]
  },
  {
   "cell_type": "code",
   "execution_count": 48,
   "metadata": {},
   "outputs": [],
   "source": [
    "assert w_hash_w.rejects('1##1')"
   ]
  },
  {
   "cell_type": "code",
   "execution_count": 49,
   "metadata": {},
   "outputs": [
    {
     "name": "stdout",
     "output_type": "stream",
     "text": [
      "q0                             \u001b[47;1m1\u001b[0m1#110\n",
      "FindDelimiter1                 X\u001b[47;1m1\u001b[0m#110\n",
      "FindDelimiter1                 X1\u001b[47;1m#\u001b[0m110\n",
      "Check1                         X1#\u001b[47;1m1\u001b[0m10\n",
      "FindLeftmost                   X1\u001b[47;1m#\u001b[0mX10\n",
      "FindLeftmost                   X\u001b[47;1m1\u001b[0m#X10\n",
      "FindLeftmost                   \u001b[47;1mX\u001b[0m1#X10\n",
      "FindLeftmost                   \u001b[47;1m\u001b[0mX1#X10\n",
      "FindNext                       \u001b[47;1mX\u001b[0m1#X10\n",
      "FindNext                       X\u001b[47;1m1\u001b[0m#X10\n",
      "FindDelimiter1                 XX\u001b[47;1m#\u001b[0mX10\n",
      "Check1                         XX#\u001b[47;1mX\u001b[0m10\n",
      "Check1                         XX#X\u001b[47;1m1\u001b[0m0\n",
      "FindLeftmost                   XX#\u001b[47;1mX\u001b[0mX0\n",
      "FindLeftmost                   XX\u001b[47;1m#\u001b[0mXX0\n",
      "FindLeftmost                   X\u001b[47;1mX\u001b[0m#XX0\n",
      "FindLeftmost                   \u001b[47;1mX\u001b[0mX#XX0\n",
      "FindLeftmost                   \u001b[47;1m\u001b[0mXX#XX0\n",
      "FindNext                       \u001b[47;1mX\u001b[0mX#XX0\n",
      "FindNext                       X\u001b[47;1mX\u001b[0m#XX0\n",
      "FindNext                       XX\u001b[47;1m#\u001b[0mXX0\n",
      "End                            XX#\u001b[47;1mX\u001b[0mX0\n",
      "End                            XX#X\u001b[47;1mX\u001b[0m0\n",
      "End                            XX#XX\u001b[47;1m0\u001b[0m\n",
      "qr                             XX#XX0\u001b[47;1m\u001b[0m\n"
     ]
    }
   ],
   "source": [
    "w_hash_w.debug('11#110', colored=True)"
   ]
  },
  {
   "cell_type": "markdown",
   "metadata": {},
   "source": [
    "## Moving Left"
   ]
  },
  {
   "cell_type": "code",
   "execution_count": 50,
   "metadata": {},
   "outputs": [],
   "source": [
    "move_left = TuringMachine(\n",
    "    {\n",
    "        ('q0', ''): ('q0', '', 'L'),\n",
    "    }\n",
    ")"
   ]
  },
  {
   "cell_type": "code",
   "execution_count": 51,
   "metadata": {},
   "outputs": [],
   "source": [
    "execution = move_left.run('')"
   ]
  },
  {
   "cell_type": "code",
   "execution_count": 52,
   "metadata": {},
   "outputs": [],
   "source": [
    "assert next(execution) == (\n",
    "    None,\n",
    "    {\n",
    "        'left_hand_side': [''],\n",
    "        'right_hand_side': [],\n",
    "        'state': 'q0',\n",
    "        'symbol': '',\n",
    "    },\n",
    ")"
   ]
  },
  {
   "cell_type": "code",
   "execution_count": 53,
   "metadata": {},
   "outputs": [
    {
     "name": "stderr",
     "output_type": "stream",
     "text": [
      "WARNING:root:An attempt to move left from the leftmost cell! The machine stays put.\n",
      "WARNING:root:An attempt to move left from the leftmost cell! The machine stays put.\n"
     ]
    }
   ],
   "source": [
    "for _ in range(3):\n",
    "    assert next(execution) == (\n",
    "        None,\n",
    "        {\n",
    "            'left_hand_side': [],\n",
    "            'right_hand_side': [''],\n",
    "            'state': 'q0',\n",
    "            'symbol': '',\n",
    "        },\n",
    ")"
   ]
  },
  {
   "cell_type": "markdown",
   "metadata": {},
   "source": [
    "## State Tables"
   ]
  },
  {
   "cell_type": "markdown",
   "metadata": {},
   "source": [
    "A Turing machine state table is a way to represent the behavior of a Turing machine. The table specifies what action the machine should take based on its current state and the symbol it is reading on the tape. The state table contains a row for each possible combination of current state and input symbol, and each row specifies the new state to transition to, the symbol to write on the tape, and the direction to move the tape head.\n",
    "\n",
    "The state table typically has the following columns:\n",
    "\n",
    "1) Current state: The current state of the machine.\n",
    "\n",
    "2) Input symbol: The symbol currently being read by the machine.\n",
    "\n",
    "3) New state: The state to transition to after the machine performs its action.\n",
    "\n",
    "4) Output symbol: The symbol to write on the tape.\n",
    "\n",
    "5) Direction: The direction in which the tape head should move after the machine performs its action."
   ]
  },
  {
   "cell_type": "markdown",
   "metadata": {},
   "source": [
    "For example, consider the following state table for a Turing machine that recognizes the language ${0^n1^n | n >= 0}$:"
   ]
  },
  {
   "attachments": {
    "image.png": {
     "image/png": "[encoded data removed]"
    }
   },
   "cell_type": "markdown",
   "metadata": {},
   "source": [
    "![image.png](attachment:image.png)"
   ]
  },
  {
   "cell_type": "markdown",
   "metadata": {},
   "source": [
    "In this table, the machine starts in state q0 and reads the input symbol on the tape. Based on its current state and the input symbol, the machine transitions to a new state, writes an output symbol on the tape, and moves the tape head in a certain direction. The machine continues to read symbols from the tape and perform actions until it reaches a final state."
   ]
  },
  {
   "cell_type": "markdown",
   "metadata": {},
   "source": [
    "## Complexity"
   ]
  },
  {
   "cell_type": "markdown",
   "metadata": {},
   "source": [
    "The Turing machine relates closey with complexity because Turing machines provide a framework for studying limits of computation.\n",
    "\n",
    "A Turing machine is a theoretical model of computation that can simulate any computer algorithm. It consists of a tape with an infinite number of cells, a read-write head that can move along the tape, and a control unit that specifies the machine's behavior based on its current state and the symbol it is reading on the tape.\n",
    "\n",
    "One way to measure the complexity of a problem is to determine the resources required to solve it using a Turing machine. The resources that are commonly considered include time and space. Time complexity measures how many steps a Turing machine needs to complete a computation, while space complexity measures how much memory it requires.\n",
    "\n",
    "The famous Church-Turing thesis states that any effectively computable function can be computed by a Turing machine. This implies that any algorithm that can be executed by a computer can be modeled by a Turing machine. Therefore, studying the resources required to solve problems using Turing machines can provide insights into the limits of computation."
   ]
  },
  {
   "cell_type": "markdown",
   "metadata": {},
   "source": [
    "## Polynomial Time"
   ]
  },
  {
   "cell_type": "markdown",
   "metadata": {},
   "source": [
    "We can define the complexity class TIME$(f(n))$ as the set of all languages for which there exists a decider that takes at most f(n) steps to decide whether a given input belongs to the language. This class is also denoted as DTIME$(f(n))$ in the Complexity Zoo.\n",
    "\n",
    "P is one of the most well-known complexity classes, which consists of languages that can be decided by a deterministic Turing machine in polynomial time. More formally, <b>P</b> can be defined as the union of TIME$(n^k)$ for all $k ∈ N0$.\n",
    "\n",
    "In mathematics, a polynomial is an expression in a single variable n with coefficients that can be constants, positive integer powers of <b>n</b>, and operations of addition and multiplication. The key property of a polynomial is that the number of arithmetic operations performed to evaluate the polynomial does not depend on the value of <b>n</b>.\n",
    "\n",
    "For example, the expression $n^5 + 2n + 4$ is a polynomial with five multiplications and two additions, whereas $2^n + n^2 + 5$ is not a polynomial since the number of multiplications required to evaluate it depends on the value of <b>n</b>."
   ]
  },
  {
   "cell_type": "markdown",
   "metadata": {},
   "source": [
    "## Non-determinism Turing Machine "
   ]
  },
  {
   "cell_type": "markdown",
   "metadata": {},
   "source": [
    "A non-deterministic Turing machine (NTM) is a theoretical computer that extends the concept of a deterministic Turing machine (DTM) by allowing for multiple possible paths of computation at any given point in time.\n",
    "\n",
    "While a DTM has a single transition for each input symbol and current state, an NTM can have multiple transitions for the same input symbol and current state. This means that an NTM can consider multiple possible paths of computation simultaneously, without committing to any one of them until it reaches a final state or rejects the input.\n",
    "\n",
    "NTMs are a theoretical construct that allow us to study the limits of computation and complexity theory. While they are not physical machines that can be built or run, they help us understand the complexity of certain problems and the theoretical limits of computation.\n",
    "\n",
    "In practice, the concept of non-determinism is used in various areas of computer science, such as in the design of algorithms, programming languages, and distributed systems. Non-determinism can be used to model concurrency, where multiple processes can run simultaneously and interact with each other in non-deterministic ways"
   ]
  },
  {
   "cell_type": "markdown",
   "metadata": {},
   "source": [
    "# NTMs and Polynomial Time"
   ]
  },
  {
   "cell_type": "markdown",
   "metadata": {},
   "source": [
    "Non-deterministic Turing machines are interesting because they can solve some problems in polynomial time that are believed to be intractable for deterministic Turing machines.\n",
    "\n",
    "For example, the problem of determining whether a given boolean formula is satisfiable (SAT) is a well-known NP-complete problem, meaning that it is believed to require exponential time to solve with a DTM in the worst case. However, it is known that an NTM can solve SAT in polynomial time by guessing the values of some variables and then verifying the guess in polynomial time. This observation led to the concept of the complexity class NP, which consists of decision problems that can be solved by an NTM in polynomial time.\n",
    "\n",
    "It is not known whether NP-complete problems can be solved in polynomial time by any algorithm, deterministic or non-deterministic. This is one of the most important open problems in computer science, known as the P versus NP problem. The question is whether every problem that can be verified in polynomial time can also be solved in polynomial time. If P = NP, it would mean that efficient algorithms exist for all problems in NP, and many important practical problems in areas such as optimization, cryptography, and machine learning would become easier to solve. However, if P ≠ NP, it would mean that there are problems that are fundamentally difficult and that no efficient algorithm can exist for them."
   ]
  },
  {
   "cell_type": "markdown",
   "metadata": {},
   "source": [
    "## References\n",
    "1) https://en.wikipedia.org/wiki/P_(complexity)\n",
    "\n",
    "2) https://learn2torials.com/a/polynomial-time-complexity\n",
    "\n",
    "3) https://realpython.com/python-sets/#defining-a-set\n",
    "\n",
    "4) https://www.kaggle.com/code/hamelg/python-for-data-6-tuples-and-strings\n",
    "\n",
    "5) https://www.geeksforgeeks.org/time-complexity-python-operations/\n",
    "\n",
    "6) https://towardsdatascience.com/almost-everything-you-need-to-know-about-decision-trees-with-code-dc026172a284"
   ]
  }
 ],
 "metadata": {
  "kernelspec": {
   "display_name": "Python 3 (ipykernel)",
   "language": "python",
   "name": "python3"
  },
  "language_info": {
   "codemirror_mode": {
    "name": "ipython",
    "version": 3
   },
   "file_extension": ".py",
   "mimetype": "text/x-python",
   "name": "python",
   "nbconvert_exporter": "python",
   "pygments_lexer": "ipython3",
   "version": "3.9.13"
  }
 },
 "nbformat": 4,
 "nbformat_minor": 2
}
