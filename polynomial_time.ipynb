{
 "cells": [
  {
   "cell_type": "markdown",
   "metadata": {},
   "source": [
    "#  The Polynomial Time Complexity Class (P)\n",
    "***"
   ]
  },
  {
   "cell_type": "markdown",
   "metadata": {},
   "source": [
    "## What is P?\n",
    "\n",
    "In computational complexity theory, P (Polynomial Time) is a complexity class that represents the set of decision problems that can be solved by a deterministic Turing machine in polynomial time, or by an equivalent computation model such as the RAM machine.\n",
    "\n",
    "Formally, a decision problem belongs to P if there exists an algorithm that solves it in O(n^k) time, where n is the size of the input and k is a constant. In other words, if the time required to solve the problem grows no faster than a polynomial function of the input size, the problem is said to be in P.\n",
    "\n",
    "Problems in P are considered to be efficiently solvable, in the sense that their solutions can be computed in a reasonable amount of time on a classical computer. Examples of problems in P include sorting a list of numbers, computing the shortest path between two nodes in a graph, and verifying the correctness of a mathematical proof.\n",
    "\n",
    "P is a very important complexity class in theoretical computer science, as it captures many practical problems that can be solved efficiently, and provides a baseline for comparing the computational complexity of other problems.\n",
    "\n",
    "Cobham's thesis holds that P is the class of computational problems that are \"efficiently solvable\" or \"tractable\". This is inexact: in practice, some problems not known to be in P have practical solutions, and some that are in P do not, but this is a useful rule of thumb. (1)"
   ]
  },
  {
   "cell_type": "markdown",
   "metadata": {},
   "source": [
    "## Definition"
   ]
  },
  {
   "cell_type": "markdown",
   "metadata": {},
   "source": [
    "A language L is in P if and only if there exists a deterministic Turing machine $M$, such that\n",
    "\n",
    "$M$ runs for polynomial time on all inputs\n",
    "\n",
    "For all $x$ in $L, M$ outputs 1\n",
    "\n",
    "For all $x$ not in $L, M$ outputs 0 \n",
    "\n",
    "(1)"
   ]
  },
  {
   "cell_type": "markdown",
   "metadata": {},
   "source": [
    "## Problems in P"
   ]
  },
  {
   "cell_type": "markdown",
   "metadata": {},
   "source": [
    "P is known to contain many natural problems, including the decision versions of linear programming, and finding a maximum matching. In 2002, it was shown that the problem of determining if a number is prime is in P. The related class of function problems is FP.\n",
    "\n",
    "Several natural problems are complete for P, including st-connectivity (or reachability) on alternating graphs. The article on P-complete problems lists further relevant problems in P."
   ]
  },
  {
   "cell_type": "markdown",
   "metadata": {},
   "source": [
    "## Polynomial Time Complexity $O(n^c)$\n",
    "\n",
    "https://learn2torials.com/a/polynomial-time-complexity"
   ]
  },
  {
   "cell_type": "markdown",
   "metadata": {},
   "source": [
    "When number of steps required to solve an Algorithm with input size n is $O(n^c)$ than it is said to have Polynomial Time Complexity. In simple terms, Polynomial Time $O(n^c)$ means number of operations are proportional to power k of the size of input."
   ]
  },
  {
   "attachments": {
    "image.png": {
     "image/png": "[encoded data removed]"
    }
   },
   "cell_type": "markdown",
   "metadata": {},
   "source": [
    "![image.png](attachment:image.png)"
   ]
  },
  {
   "cell_type": "markdown",
   "metadata": {},
   "source": [
    "Quadratic time complexity $O(n^2)$ is also a special type of polynomial time complexity where $c=2$. Exponential time complexity $O(2^n)$ is worst then polynomial time complexity.\n",
    "\n",
    "Let's look at how $O(n^2)$ grows compare to $O(2^n)$:"
   ]
  },
  {
   "cell_type": "markdown",
   "metadata": {},
   "source": [
    "<div class=\"alert alert-info\">\n",
    "When n=10,\n",
    "\n",
    "O(n2) = 102 = 100 <br>\n",
    "O(2n) = 210 = 1024\n",
    "</div>\n",
    "\n",
    "    "
   ]
  },
  {
   "cell_type": "markdown",
   "metadata": {},
   "source": [
    "As you can see Exponential time complexity $O(2^n)$ is worst than Quadratic time complexity $O(n^2)$."
   ]
  },
  {
   "cell_type": "markdown",
   "metadata": {},
   "source": [
    "## Sets"
   ]
  },
  {
   "cell_type": "markdown",
   "metadata": {},
   "source": [
    "A set is a collection of objects, usually denoted using curly braces, For example, the set A below contains the three objects 1, 2, and 3.\n",
    "We call these objects elements of the set.\n",
    "\n",
    "$ A = ${$ 1, 2, 3$} "
   ]
  },
  {
   "cell_type": "markdown",
   "metadata": {},
   "source": [
    "## Sets in Python\n",
    "https://realpython.com/python-sets/#defining-a-set"
   ]
  },
  {
   "cell_type": "markdown",
   "metadata": {},
   "source": [
    "Python’s built-in set type has the following characteristics:\n",
    "\n",
    "Sets are unordered.\n",
    "Set elements are unique. Duplicate elements are not allowed.\n",
    "A set itself may be modified, but the elements contained in the set must be of an immutable type.\n",
    "Let’s see what all that means, and how you can work with sets in Python.\n",
    "\n",
    "A set can be created in two ways. First, you can define a set with the built-in set() function:"
   ]
  },
  {
   "cell_type": "code",
   "execution_count": 9,
   "metadata": {},
   "outputs": [
    {
     "data": {
      "text/plain": [
       "{'bar', 'baz', 'foo', 'qux'}"
      ]
     },
     "execution_count": 9,
     "metadata": {},
     "output_type": "execute_result"
    }
   ],
   "source": [
    "x = set(['foo', 'bar', 'baz', 'foo', 'qux'])\n",
    "x"
   ]
  },
  {
   "cell_type": "markdown",
   "metadata": {},
   "source": [
    "Strings are also iterable, so a string can be passed to set() as well. You have already seen that list(s) generates a list of the characters in the string s. Similarly, set(s) generates a set of the characters in s:"
   ]
  },
  {
   "cell_type": "code",
   "execution_count": 2,
   "metadata": {},
   "outputs": [
    {
     "data": {
      "text/plain": [
       "'quux'"
      ]
     },
     "execution_count": 2,
     "metadata": {},
     "output_type": "execute_result"
    }
   ],
   "source": [
    "s = 'quux'\n",
    "s"
   ]
  },
  {
   "cell_type": "markdown",
   "metadata": {},
   "source": [
    "A set is a collection of objects, usually denoted using curly braces. For example, the set A below contains the three objects 1, 2, and 3. We call these objects elements of the set."
   ]
  },
  {
   "cell_type": "code",
   "execution_count": 3,
   "metadata": {},
   "outputs": [],
   "source": [
    "A = {1, 2, 3}"
   ]
  },
  {
   "cell_type": "markdown",
   "metadata": {},
   "source": [
    "Sets can be infinite, in which case the elements can be identified by an algorithm or property. In this case, we usually assume the infinite set of counting numbers N0 = {0, 1, 2, 3, ...} is a given."
   ]
  },
  {
   "cell_type": "code",
   "execution_count": 14,
   "metadata": {},
   "outputs": [],
   "source": [
    "N = {0, 1, 2, 3, 4, 5}\n",
    "\n",
    "N = {n for n in range(0, 5)} # This generates the set {0, 1, 2, 3, 4, 5}\n",
    "\n",
    "# Generating the set T of even positive natural numbers with an algorithm\n",
    "T = {2*n | n in N}\n",
    "\n",
    "# Defining the set P as the set of all prime numbers\n",
    "P = {p for p in N if all(p % d != 0 for d in range(2, int(p**0.5) + 1))}"
   ]
  },
  {
   "cell_type": "markdown",
   "metadata": {},
   "source": [
    "Two important properties of sets are that they are unordered and that each element is distinct. Note there is no mention of order in the definition of a collection of objects. Likewise, the idea of an object is that it is unique -- we did not say an instance of an object or anything like that.\n",
    "\n",
    "We say B is a subset of A if all the elements in B are also in A. When B has k elements, we sometimes say B is a k-subset of A. Under this definition, the empty set and A itself are always subsets of a set A.\n",
    "\n",
    "Note that a set B is an object itself, and so might be an element of a set A. In this case, we are not saying that the elements of B are individually in A, although that could also be the case. The distinction is important.\n",
    "\n",
    "In Python, set is a built-in type. We can create a new set S with three elements as follows:"
   ]
  },
  {
   "cell_type": "code",
   "execution_count": 6,
   "metadata": {},
   "outputs": [],
   "source": [
    "S = {1, 2, 3}"
   ]
  },
  {
   "cell_type": "markdown",
   "metadata": {},
   "source": [
    "Be careful with the empty set in Python. The statement {} creates an empty dictionary, not an empty set. You have to use set() instead. You can test membership using the in operator.\n",
    "\n",
    "We define the union of sets S and T, denoted S ∪ T, as the set of all the elements in S or T. Likewise, the intersection S ∩ T means the set of all the elements in both S and T. Finally, the difference S \\ T means the set of all the elements in S but not in T.\n",
    "\n",
    "In Python, we use different symbols for these operators."
   ]
  },
  {
   "cell_type": "code",
   "execution_count": 11,
   "metadata": {},
   "outputs": [
    {
     "data": {
      "text/plain": [
       "{4, 5}"
      ]
     },
     "execution_count": 11,
     "metadata": {},
     "output_type": "execute_result"
    }
   ],
   "source": [
    "S = {1, 2, 3}\n",
    "T = {3, 4, 5}\n",
    "\n",
    "S | T  # Union: {1, 2, 3, 4, 5}\n",
    "S & T  # Intersection: {3}\n",
    "S - T  # Difference: {1, 2}\n",
    "T - S  # Different difference: {4, 5}"
   ]
  },
  {
   "cell_type": "markdown",
   "metadata": {},
   "source": [
    "## Sets in Python and Time Complexity\n",
    "https://www.ics.uci.edu/~pattis/ICS-33/lectures/complexitypython.txt"
   ]
  },
  {
   "attachments": {
    "image.png": {
     "image/png": "[encoded data removed]"
    }
   },
   "cell_type": "markdown",
   "metadata": {},
   "source": [
    "Sets in Python are a built-in data structure that can be used to store an unordered collection of unique elements. Sets have a special property called \"hashability,\" which means that the set can be hashed and the lookup time for an element in the set is O(1), on average.\n",
    "\n",
    "The P complexity class refers to the set of decision problems that can be solved in polynomial time by a deterministic Turing machine. The time complexity of a problem is related to the number of operations required to solve the problem for a given input size.\n",
    "\n",
    "The hash table data structure, which is used to implement Python sets, has a lookup time of O(1) on average. This means that the time required to find an element in a set does not depend on the size of the set. Since sets are implemented using hash tables, they can be used to solve certain decision problems in the P complexity class.\n",
    "\n",
    "For example, the problem of finding duplicate elements in a list can be solved using sets in O(n) time, where n is the size of the list. This is because inserting an element into a set and checking if an element is already in a set can be done in constant time, on average.\n",
    "\n",
    "In summary, sets in Python are closely related to the time complexity class P because they are implemented using hash tables, which have a lookup time of O(1) on average. This means that sets can be used to solve certain decision problems in polynomial time, which is a characteristic of the P complexity class.\n",
    "\n",
    "![image.png](attachment:image.png)"
   ]
  },
  {
   "cell_type": "markdown",
   "metadata": {},
   "source": [
    "## Tuples"
   ]
  },
  {
   "cell_type": "markdown",
   "metadata": {},
   "source": [
    "Tuples are a type of ordered sequence that are used when order matters. A tuple is a finite sequence, which is essentially a list of objects that typically come from a set or sets. A tuple of length k is sometimes referred to as a k-tuple, but a 2-tuple is usually just called a pair.\n",
    "\n",
    "For example, the tuple t = (1, 4, 9, 16) is a 4-tuple, with the first element being 1 and the last element being 16. Tuples are similar to lists or arrays in programming languages, but the key difference is that tuples are immutable while lists are mutable. This means that once a tuple is created, its contents cannot be changed, while a list can be modified.\n",
    "\n",
    "In Python, tuples and lists are different types, with tuples using parentheses () and lists using brackets []. Tuples are often used when we need to store data that should not be changed, while lists are more flexible and can be used to store data that can be modified. Tuples are also hashable, which makes them useful in certain contexts.\n",
    "\n",
    "For example, we can access elements of a list or tuple using their index. l[0] and t[0] both refer to the first element of their respective sequence. We can also modify elements of a list using their index, but we cannot do so for a tuple since they are immutable.\n",
    "\n",
    "In summary, tuples are a type of ordered sequence that are used when order matters and the contents should not be modified. While they are similar to lists or arrays, the key difference is that tuples are immutable while lists are mutable. They are useful in certain contexts, such as when we need a hashable data type."
   ]
  },
  {
   "cell_type": "code",
   "execution_count": 15,
   "metadata": {},
   "outputs": [],
   "source": [
    "#Creating a tuple\n",
    "t = (1, 2, 3)"
   ]
  },
  {
   "cell_type": "code",
   "execution_count": 17,
   "metadata": {},
   "outputs": [
    {
     "name": "stdout",
     "output_type": "stream",
     "text": [
      "1\n",
      "2\n",
      "3\n"
     ]
    }
   ],
   "source": [
    "#Access elements of the tuple\n",
    "print(t[0]) # Output: 1\n",
    "print(t[1]) # Output: 2\n",
    "print(t[2]) # Output: 3"
   ]
  },
  {
   "cell_type": "code",
   "execution_count": 18,
   "metadata": {},
   "outputs": [
    {
     "name": "stdout",
     "output_type": "stream",
     "text": [
      "1\n",
      "2\n",
      "3\n"
     ]
    }
   ],
   "source": [
    "# You can even assign tupletes to variables\n",
    "a, b, c = t\n",
    "print(a) # Output: 1\n",
    "print(b) # Output: 2\n",
    "print(c) # Output: 3"
   ]
  },
  {
   "cell_type": "code",
   "execution_count": 19,
   "metadata": {},
   "outputs": [
    {
     "name": "stdout",
     "output_type": "stream",
     "text": [
      "(1, 2, 3, 4, 5, 6)\n"
     ]
    }
   ],
   "source": [
    "# You can concat two tuples together!\n",
    "t1 = (1, 2, 3)\n",
    "t2 = (4, 5, 6)\n",
    "t3 = t1 + t2\n",
    "print(t3) # Output: (1, 2, 3, 4, 5, 6)\n"
   ]
  },
  {
   "cell_type": "code",
   "execution_count": 20,
   "metadata": {},
   "outputs": [
    {
     "name": "stdout",
     "output_type": "stream",
     "text": [
      "True\n",
      "True\n"
     ]
    }
   ],
   "source": [
    "# Tuple comparing\n",
    "t1 = (1, 2, 3)\n",
    "t2 = (4, 5, 6)\n",
    "t3 = (1, 2, 3)\n",
    "print(t1 < t2) # Output: True\n",
    "print(t1 == t3) # Output: True"
   ]
  },
  {
   "cell_type": "markdown",
   "metadata": {},
   "source": [
    "Tuples can be used as keys in dictionaries because they are hashable."
   ]
  },
  {
   "cell_type": "code",
   "execution_count": 21,
   "metadata": {},
   "outputs": [
    {
     "name": "stdout",
     "output_type": "stream",
     "text": [
      "Male\n"
     ]
    }
   ],
   "source": [
    "# Create a dictionary where each key is a tuple representing a person's name and age\n",
    "person_info = {('John', 25): 'Male', ('Emily', 30): 'Female', ('Tom', 22): 'Male'}\n",
    "\n",
    "# Access the value associated with a particular key tuple\n",
    "print(person_info[('John', 25)])  # Output: 'Male'\n"
   ]
  },
  {
   "cell_type": "markdown",
   "metadata": {},
   "source": [
    "Tuples can be used as return values from functions to return multiple values at once."
   ]
  },
  {
   "cell_type": "code",
   "execution_count": 22,
   "metadata": {},
   "outputs": [
    {
     "name": "stdout",
     "output_type": "stream",
     "text": [
      "8\n",
      "2\n"
     ]
    }
   ],
   "source": [
    "# A function that returns the sum and difference of two numbers as a tuple\n",
    "def add_subtract(a, b):\n",
    "    return a+b, a-b\n",
    "\n",
    "# Call the function and unpack the returned tuple into two variables\n",
    "sum_, diff = add_subtract(5, 3)\n",
    "print(sum_)   # Output: 8\n",
    "print(diff)   # Output: 2\n"
   ]
  },
  {
   "cell_type": "markdown",
   "metadata": {},
   "source": [
    "Tuples can be used to swap the values of two variables in a single line of code, as follows: a, b = b, a:"
   ]
  },
  {
   "cell_type": "code",
   "execution_count": 23,
   "metadata": {},
   "outputs": [
    {
     "name": "stdout",
     "output_type": "stream",
     "text": [
      "10\n",
      "5\n"
     ]
    }
   ],
   "source": [
    "a = 5\n",
    "b = 10\n",
    "\n",
    "# Swap the values of a and b using a tuple\n",
    "a, b = b, a\n",
    "print(a)   # Output: 10\n",
    "print(b)   # Output: 5"
   ]
  },
  {
   "cell_type": "markdown",
   "metadata": {},
   "source": [
    "The tuple() function can be used to convert other iterable objects, such as lists or strings, to tuples:"
   ]
  },
  {
   "cell_type": "code",
   "execution_count": 24,
   "metadata": {},
   "outputs": [
    {
     "name": "stdout",
     "output_type": "stream",
     "text": [
      "(1, 2, 3, 4, 5)\n",
      "('H', 'e', 'l', 'l', 'o', ',', ' ', 'W', 'o', 'r', 'l', 'd', '!')\n"
     ]
    }
   ],
   "source": [
    "# Convert a list to a tuple\n",
    "my_list = [1, 2, 3, 4, 5]\n",
    "my_tuple = tuple(my_list)\n",
    "print(my_tuple)   # Output: (1, 2, 3, 4, 5)\n",
    "\n",
    "# Convert a string to a tuple\n",
    "my_string = \"Hello, World!\"\n",
    "my_tuple = tuple(my_string)\n",
    "print(my_tuple)   # Output: ('H', 'e', 'l', 'l', 'o', ',', ' ', 'W', 'o', 'r', 'l', 'd', '!')"
   ]
  },
  {
   "cell_type": "markdown",
   "metadata": {},
   "source": [
    "Tuples can contain any type of object, including other tuples, lists, or even functions:"
   ]
  },
  {
   "cell_type": "code",
   "execution_count": 25,
   "metadata": {},
   "outputs": [
    {
     "name": "stdout",
     "output_type": "stream",
     "text": [
      "1\n",
      "Hello\n",
      "[4, 5, 6]\n",
      "9\n"
     ]
    }
   ],
   "source": [
    "# Create a tuple containing various types of objects\n",
    "my_tuple = (1, 2.5, 'Hello', [4, 5, 6], (7, 8, 9), lambda x: x**2)\n",
    "\n",
    "# Access the elements of the tuple\n",
    "print(my_tuple[0])   # Output: 1\n",
    "print(my_tuple[2])   # Output: 'Hello'\n",
    "print(my_tuple[3])   # Output: [4, 5, 6]\n",
    "\n",
    "# Call the function stored in the tuple\n",
    "print(my_tuple[5](3))   # Output: 9\n"
   ]
  },
  {
   "cell_type": "markdown",
   "metadata": {},
   "source": [
    "## Tuples and Time Complexity\n",
    "https://www.geeksforgeeks.org/time-complexity-python-operations/"
   ]
  },
  {
   "cell_type": "markdown",
   "metadata": {},
   "source": [
    "Tuples in Python have a constant time complexity for many operations, including accessing elements by index, concatenation, and comparison. This means that the time it takes to perform these operations does not depend on the size of the tuple.\n",
    "\n",
    "For example, accessing an element of a tuple by index takes O(1) time, since Python uses a constant-time hash function to map the index to the memory address of the element. Similarly, concatenating two tuples takes O(1) time, since Python simply creates a new tuple object with references to the elements of the original tuples.\n",
    "\n",
    "In general, tuples are considered to have a constant time complexity for most operations, and are therefore considered to be part of the time complexity class P, which includes all problems that can be solved in polynomial time. This is because the time it takes to perform operations on a tuple does not increase with the size of the tuple, and can be considered to be a constant factor.\n",
    "\n",
    "However, it is important to note that certain operations on tuples may have a higher time complexity in certain cases. For example, searching for an element in a tuple requires iterating over all of the elements, which takes O(n) time, where n is the size of the tuple. Similarly, sorting a tuple takes O(n log n) time using the built-in sorted() function in Python."
   ]
  },
  {
   "cell_type": "markdown",
   "metadata": {},
   "source": [
    "## Strings"
   ]
  },
  {
   "cell_type": "code",
   "execution_count": null,
   "metadata": {},
   "outputs": [],
   "source": []
  },
  {
   "cell_type": "code",
   "execution_count": null,
   "metadata": {},
   "outputs": [],
   "source": []
  },
  {
   "cell_type": "code",
   "execution_count": null,
   "metadata": {},
   "outputs": [],
   "source": []
  },
  {
   "cell_type": "code",
   "execution_count": null,
   "metadata": {},
   "outputs": [],
   "source": []
  },
  {
   "cell_type": "code",
   "execution_count": null,
   "metadata": {},
   "outputs": [],
   "source": []
  },
  {
   "cell_type": "code",
   "execution_count": null,
   "metadata": {},
   "outputs": [],
   "source": []
  },
  {
   "cell_type": "code",
   "execution_count": null,
   "metadata": {},
   "outputs": [],
   "source": []
  },
  {
   "cell_type": "code",
   "execution_count": null,
   "metadata": {},
   "outputs": [],
   "source": []
  },
  {
   "cell_type": "code",
   "execution_count": null,
   "metadata": {},
   "outputs": [],
   "source": []
  },
  {
   "cell_type": "code",
   "execution_count": null,
   "metadata": {},
   "outputs": [],
   "source": []
  },
  {
   "cell_type": "code",
   "execution_count": null,
   "metadata": {},
   "outputs": [],
   "source": []
  },
  {
   "cell_type": "code",
   "execution_count": null,
   "metadata": {},
   "outputs": [],
   "source": []
  },
  {
   "cell_type": "markdown",
   "metadata": {},
   "source": [
    "## References\n",
    "1) https://en.wikipedia.org/wiki/P_(complexity)\n",
    "\n",
    "2) https://learn2torials.com/a/polynomial-time-complexity\n",
    "\n",
    "3) https://realpython.com/python-sets/#defining-a-set\n",
    "\n",
    "4) https://www.kaggle.com/code/hamelg/python-for-data-6-tuples-and-strings\n",
    "\n",
    "5) https://www.geeksforgeeks.org/time-complexity-python-operations/"
   ]
  }
 ],
 "metadata": {
  "kernelspec": {
   "display_name": "Python 3 (ipykernel)",
   "language": "python",
   "name": "python3"
  },
  "language_info": {
   "codemirror_mode": {
    "name": "ipython",
    "version": 3
   },
   "file_extension": ".py",
   "mimetype": "text/x-python",
   "name": "python",
   "nbconvert_exporter": "python",
   "pygments_lexer": "ipython3",
   "version": "3.9.13"
  }
 },
 "nbformat": 4,
 "nbformat_minor": 2
}
